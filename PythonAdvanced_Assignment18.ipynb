{
 "cells": [
  {
   "cell_type": "markdown",
   "id": "b56f3f18",
   "metadata": {},
   "source": [
    "#1 Question Answer\n",
    "\n",
    "The differences between Text Files and Binary Files are:\n",
    "\n",
    "Text files are special subset of binary files that are used to store human readable characters as a rich text document or plain text document. Text files also store data in sequential bytes but bits in text file represents characters.\n",
    "\n",
    "Binary files are those typical files that store data in the form of sequence of bytes grouped into eight bits or sometimes sixteen bits. These bits represent custom data and such files can store multiple types of data (images, audio, text, etc) under a single file."
   ]
  },
  {
   "cell_type": "markdown",
   "id": "574482ef",
   "metadata": {},
   "source": [
    "#2 Question Answer\n",
    "\n",
    " Text files are less prone to get corrupted as any undesired change may just show up once the file is opened and then can easily be removed. Whereas Use binary files instead of text files for image data."
   ]
  },
  {
   "cell_type": "markdown",
   "id": "9114e2d0",
   "metadata": {},
   "source": [
    "#3 Question Answer\n",
    "\n",
    "When we read or write a python integer using binary operations\n",
    "\n",
    "Binary operations deal with raw data\n",
    "One needs to identify how many bytes one would read or write"
   ]
  },
  {
   "cell_type": "markdown",
   "id": "ba3f5cc2",
   "metadata": {},
   "source": [
    "#4 Question Answer\n",
    "\n",
    "When a file is opened using the with keyword, if some exceptions occur after opening a file, or at the end of the file it automatically does the closing of the file. There by not leaving an file in open mode and there would no need to explicitly close a file."
   ]
  },
  {
   "cell_type": "markdown",
   "id": "6eda3c42",
   "metadata": {},
   "source": [
    "#5 Question Answer\n",
    "\n",
    " Yes, Python have the trailing newline while reading a line of text. When we write a newline has to be provided in python excpicitly."
   ]
  },
  {
   "cell_type": "markdown",
   "id": "c5ceba3a",
   "metadata": {},
   "source": [
    "#6 Question Answer\n",
    "\n",
    "The file operations enable for random-access operation are seek() and tell()"
   ]
  },
  {
   "cell_type": "markdown",
   "id": "b48db44a",
   "metadata": {},
   "source": [
    "#7 Question Answer\n",
    "\n",
    "The struct package is mostly used while converting a common python types into C language types."
   ]
  },
  {
   "cell_type": "markdown",
   "id": "0a1c0deb",
   "metadata": {},
   "source": [
    "#8 Question Answer\n",
    "\n",
    "pickling is best option for creating a new binary file using python."
   ]
  },
  {
   "cell_type": "markdown",
   "id": "4c063a8c",
   "metadata": {},
   "source": [
    "#9 Question Answer\n",
    "\n",
    "\n",
    "Shelve package is used to pickle data but treats the entire file as dictionary."
   ]
  },
  {
   "cell_type": "markdown",
   "id": "230fae98",
   "metadata": {},
   "source": [
    "#10 Question Answer\n",
    "\n",
    " Only string data type can be used as key in this special dictionary object, whereas any picklable Python object can be used as value."
   ]
  }
 ],
 "metadata": {
  "kernelspec": {
   "display_name": "Python 3 (ipykernel)",
   "language": "python",
   "name": "python3"
  },
  "language_info": {
   "codemirror_mode": {
    "name": "ipython",
    "version": 3
   },
   "file_extension": ".py",
   "mimetype": "text/x-python",
   "name": "python",
   "nbconvert_exporter": "python",
   "pygments_lexer": "ipython3",
   "version": "3.9.12"
  }
 },
 "nbformat": 4,
 "nbformat_minor": 5
}
