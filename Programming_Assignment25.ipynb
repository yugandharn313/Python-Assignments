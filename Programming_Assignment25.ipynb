{
 "cells": [
  {
   "cell_type": "code",
   "execution_count": 1,
   "id": "425288ef",
   "metadata": {},
   "outputs": [
    {
     "data": {
      "text/plain": [
       "0"
      ]
     },
     "execution_count": 1,
     "metadata": {},
     "output_type": "execute_result"
    }
   ],
   "source": [
    "#1 Question Answer\n",
    "\n",
    "def equal(a,b,c):\n",
    "    num = 0\n",
    "    if a == b and a == c :\n",
    "        num = 3\n",
    "    elif a == b or a == c :\n",
    "        num = 2\n",
    "    else:\n",
    "        num = 0\n",
    "    return num\n",
    "equal(3, 4, 3)\n",
    "\n",
    "equal(3, 4, 1)"
   ]
  },
  {
   "cell_type": "code",
   "execution_count": 2,
   "id": "278ec3d2",
   "metadata": {},
   "outputs": [
    {
     "data": {
      "text/plain": [
       "[('D', 1), ('B', 2), ('C', 3)]"
      ]
     },
     "execution_count": 2,
     "metadata": {},
     "output_type": "execute_result"
    }
   ],
   "source": [
    "#2 Question Answer\n",
    "\n",
    "def dict_to_list(d):\n",
    "    return list(d.items())\n",
    "\n",
    "dict_to_list({\n",
    "    'D': 1,\n",
    "    'B': 2,\n",
    "    'C': 3\n",
    "    })"
   ]
  },
  {
   "cell_type": "code",
   "execution_count": 3,
   "id": "6bb89259",
   "metadata": {},
   "outputs": [
    {
     "data": {
      "text/plain": [
       "{'a': 'A', 'v': 'V', 'y': 'Y', 'z': 'Z'}"
      ]
     },
     "execution_count": 3,
     "metadata": {},
     "output_type": "execute_result"
    }
   ],
   "source": [
    "#3 Question Answer\n",
    "\n",
    "def mapping(lst):\n",
    "    return {v.lower():v.upper() for v in lst}\n",
    "\n",
    "mapping(['a', 'v', 'y', 'z'])"
   ]
  },
  {
   "cell_type": "code",
   "execution_count": 4,
   "id": "494c35f6",
   "metadata": {},
   "outputs": [
    {
     "data": {
      "text/plain": [
       "'chooso cossorolo'"
      ]
     },
     "execution_count": 4,
     "metadata": {},
     "output_type": "execute_result"
    }
   ],
   "source": [
    "#4 Question Answer\n",
    "\n",
    "def vow_replace(s,ch):\n",
    "    vowel ='AEIOUaeiuo'\n",
    "    s1 = []\n",
    "    for i in range(len(s)):\n",
    "        if s[i] in vowel:\n",
    "            s1.append(ch)\n",
    "        else:\n",
    "            s1.append(s[i])\n",
    "\n",
    "    return ''.join((s1))\n",
    "\n",
    "vow_replace('cheese casserole', 'o')"
   ]
  },
  {
   "cell_type": "code",
   "execution_count": 5,
   "id": "dff5530b",
   "metadata": {},
   "outputs": [
    {
     "data": {
      "text/plain": [
       "'THe LiTTLe meRmaiD'"
      ]
     },
     "execution_count": 5,
     "metadata": {},
     "output_type": "execute_result"
    }
   ],
   "source": [
    "#5 Question Answer\n",
    "\n",
    "def ascii_capitalize(s):\n",
    "    s1 = []\n",
    "    for i in range(len(s)):\n",
    "        if ord(s[i]) % 2 == 0:\n",
    "            s1.append(s[i].upper())\n",
    "        else:\n",
    "            s1.append(s[i].lower())\n",
    "\n",
    "    return \"\".join((s1))\n",
    "\n",
    "ascii_capitalize('THE LITTLE MERMAID')"
   ]
  }
 ],
 "metadata": {
  "kernelspec": {
   "display_name": "Python 3 (ipykernel)",
   "language": "python",
   "name": "python3"
  },
  "language_info": {
   "codemirror_mode": {
    "name": "ipython",
    "version": 3
   },
   "file_extension": ".py",
   "mimetype": "text/x-python",
   "name": "python",
   "nbconvert_exporter": "python",
   "pygments_lexer": "ipython3",
   "version": "3.9.12"
  }
 },
 "nbformat": 4,
 "nbformat_minor": 5
}
