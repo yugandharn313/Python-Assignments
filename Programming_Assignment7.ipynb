{
 "cells": [
  {
   "cell_type": "code",
   "execution_count": 7,
   "id": "6e8a7303",
   "metadata": {},
   "outputs": [
    {
     "name": "stdout",
     "output_type": "stream",
     "text": [
      "The sum of elements in the array is 90\n"
     ]
    }
   ],
   "source": [
    "#Question 1\n",
    "from array import *\n",
    "my_array=array('i',[12,14,18,20,26])\n",
    "result=0\n",
    "for i in my_array:\n",
    "    result=result+i\n",
    "print('The sum of elements in the array is {0}'.format(result))"
   ]
  },
  {
   "cell_type": "code",
   "execution_count": 8,
   "id": "d68f3fb8",
   "metadata": {},
   "outputs": [
    {
     "name": "stdout",
     "output_type": "stream",
     "text": [
      "The largest element in the array is 101\n"
     ]
    }
   ],
   "source": [
    "#Question 2\n",
    "new_array=array('i',[78,101,54,34,87])\n",
    "print(\"The largest element in the array is {0}\".format(max(new_array)))"
   ]
  },
  {
   "cell_type": "code",
   "execution_count": 12,
   "id": "b2859179",
   "metadata": {},
   "outputs": [
    {
     "name": "stdout",
     "output_type": "stream",
     "text": [
      "The elements in the array after rotation\n",
      "78 56 45 90 97 "
     ]
    }
   ],
   "source": [
    "#Question 3\n",
    "simplearray=array('i',[97,90,45,56,78])\n",
    "print(\"The elements in the array after rotation\")\n",
    "for i in range(len(simplearray)-1,-1,-1):\n",
    "    print(simplearray[i],end=\" \")"
   ]
  },
  {
   "cell_type": "code",
   "execution_count": 16,
   "id": "8def4fe2",
   "metadata": {},
   "outputs": [
    {
     "name": "stdout",
     "output_type": "stream",
     "text": [
      "Enter the index from where you want to split 2\n",
      "48 78 87 53 57 45 9 "
     ]
    }
   ],
   "source": [
    "#Question 4\n",
    "testarray=array('i',[45,9,48,78,87,53,57])\n",
    "k=int(input(\"Enter the index from where you want to split \"))\n",
    "resultarray=array('i',[])\n",
    "for i in range(k,len(testarray)):\n",
    "    resultarray.append(testarray[i])\n",
    "for j in range(0,k):\n",
    "    resultarray.append(testarray[j])\n",
    "for i in resultarray:\n",
    "    print(i,end=\" \")"
   ]
  },
  {
   "cell_type": "code",
   "execution_count": 19,
   "id": "ff3d4b32",
   "metadata": {},
   "outputs": [
    {
     "name": "stdout",
     "output_type": "stream",
     "text": [
      "The array is monotonic\n"
     ]
    }
   ],
   "source": [
    "#Question 5\n",
    "m=array('i',[45,46,47,48,49,58])\n",
    "if(all(m[i]<=m[i+1] for i in range(len(m)-1)) or all(m[i]>=m[i+1] for i in range(len(m)-1))):\n",
    "    print(\"The array is monotonic\")\n",
    "else:\n",
    "    print(\"The array is not monotonic\")\n"
   ]
  }
 ],
 "metadata": {
  "kernelspec": {
   "display_name": "Python 3 (ipykernel)",
   "language": "python",
   "name": "python3"
  },
  "language_info": {
   "codemirror_mode": {
    "name": "ipython",
    "version": 3
   },
   "file_extension": ".py",
   "mimetype": "text/x-python",
   "name": "python",
   "nbconvert_exporter": "python",
   "pygments_lexer": "ipython3",
   "version": "3.9.12"
  }
 },
 "nbformat": 4,
 "nbformat_minor": 5
}
