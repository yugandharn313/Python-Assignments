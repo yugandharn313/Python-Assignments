{
 "cells": [
  {
   "cell_type": "markdown",
   "id": "3230d16a",
   "metadata": {},
   "source": [
    "# 1. What is the result of the code, and why?\n",
    "def func(a, b=6, c=8):\n",
    "    print(a, b, c)\n",
    "func(1, 2)\n"
   ]
  },
  {
   "cell_type": "markdown",
   "id": "85f6e10e",
   "metadata": {},
   "source": [
    "Output is (1,2,8).\n",
    "Reason: a and b value are passed as 1 and 2 c value is not passed as an argument to the function call so it will print the default value asigned in the function."
   ]
  },
  {
   "cell_type": "code",
   "execution_count": 1,
   "id": "ce682e50",
   "metadata": {},
   "outputs": [
    {
     "name": "stdout",
     "output_type": "stream",
     "text": [
      "1 2 8\n"
     ]
    }
   ],
   "source": [
    "def func(a, b=6, c=8):\n",
    "    print(a, b, c)\n",
    "func(1, 2)\n"
   ]
  },
  {
   "cell_type": "markdown",
   "id": "221addbb",
   "metadata": {},
   "source": [
    "# 2. What is the result of this code, and why?\n",
    "def func(a, b, c=5):\n",
    "    print(a, b, c)\n",
    "func(1, c=3, b=2)"
   ]
  },
  {
   "cell_type": "markdown",
   "id": "a4e3a62b",
   "metadata": {},
   "source": [
    "Output is 1,2,3   \n",
    "Reason : When we make function call, order will be positional argument and then keywords arguments. we can pass the keyword arguments in any order we want."
   ]
  },
  {
   "cell_type": "markdown",
   "id": "557e74a4",
   "metadata": {},
   "source": [
    "# 3. How about this code: what is its result, and why?\n",
    "def func(a, *pargs):\n",
    "    print(a, pargs)\n",
    "func(1, 2, 3)\n"
   ]
  },
  {
   "cell_type": "markdown",
   "id": "1eadf8ae",
   "metadata": {},
   "source": [
    "the return type of *pargs is tuple.\n",
    "Output is 1,(2,3)"
   ]
  },
  {
   "cell_type": "markdown",
   "id": "7f6d2c4b",
   "metadata": {},
   "source": [
    "# 4. What does this code print, and why?\n",
    "def func(a, **kargs):\n",
    "    print(a, kargs)\n",
    "func(a=1, c=3, b=2)"
   ]
  },
  {
   "cell_type": "markdown",
   "id": "24c24beb",
   "metadata": {},
   "source": [
    "Output is :1,{'c':3,'b':2}  Because the return type of **kargs is dictionary"
   ]
  },
  {
   "cell_type": "markdown",
   "id": "d6b4f257",
   "metadata": {},
   "source": [
    "# 5. What gets printed by this, and explain?\n",
    "def func(a, b, c=8, d=5): \n",
    "    print(a, b, c, d)\n",
    "func(1, *(5, 6))"
   ]
  },
  {
   "cell_type": "markdown",
   "id": "0abb74c8",
   "metadata": {},
   "source": [
    "'*' is the unpacking operator and are operators that unpack the values from iterable objects in Python. The single \n",
    "    asterisk operator * can be used on any iterable that Python provides, while the double asterisk operator ** can only \n",
    "    be used on dictionaries. In the example the value *(5,6) will be unpacked and will be assigned to b and c and passed \n",
    "    as arguments, d =5 will taken by defaults are keyword arguments.\n",
    "\n",
    "    Solution 1,5,6,5"
   ]
  },
  {
   "cell_type": "markdown",
   "id": "a19fb277",
   "metadata": {},
   "source": [
    "# 6. what is the result of this, and explain?\n",
    "def func(a, b, c): \n",
    "    a = 2; b[0] = 'x'; c['a'] = 'y'\n",
    "\n",
    "l=1; m=[1]; n={'a':0}\n",
    "print(l,m,n)\n",
    "func(l, m, n)\n",
    "\n",
    "l, m, n"
   ]
  },
  {
   "cell_type": "markdown",
   "id": "f2b19b4e",
   "metadata": {},
   "source": [
    "Here in the code, the list and dict are passed as argument, and those are mutable. Here the list l and parametr b point \n",
    "to the same list in the memeory location where as dict n and c point to the same memory location. Any updates to this \n",
    "list will update in the memory location\n",
    "\n",
    "l = 1 , integer values, immutable, m is list, mutable, n is dict, mutable.\n",
    "output will be = 1,['x'],{'a':'y'}"
   ]
  }
 ],
 "metadata": {
  "kernelspec": {
   "display_name": "Python 3 (ipykernel)",
   "language": "python",
   "name": "python3"
  },
  "language_info": {
   "codemirror_mode": {
    "name": "ipython",
    "version": 3
   },
   "file_extension": ".py",
   "mimetype": "text/x-python",
   "name": "python",
   "nbconvert_exporter": "python",
   "pygments_lexer": "ipython3",
   "version": "3.9.12"
  }
 },
 "nbformat": 4,
 "nbformat_minor": 5
}
