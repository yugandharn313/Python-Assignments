{
 "cells": [
  {
   "cell_type": "code",
   "execution_count": 6,
   "id": "6c83355a",
   "metadata": {},
   "outputs": [
    {
     "name": "stdout",
     "output_type": "stream",
     "text": [
      "Enter the Number 12\n",
      "The Factorial of given number is 479001600\n"
     ]
    }
   ],
   "source": [
    "#Question 1\n",
    "number=int(input(\"Enter the Number \"))\n",
    "factorial=1\n",
    "for i in range(1,number+1):\n",
    "    factorial=factorial*i\n",
    "print(\"The Factorial of given number is {0}\".format(factorial))"
   ]
  },
  {
   "cell_type": "code",
   "execution_count": 8,
   "id": "bad31197",
   "metadata": {},
   "outputs": [
    {
     "name": "stdout",
     "output_type": "stream",
     "text": [
      "Enter the number19\n",
      "19 * 1 == 19\n",
      "19 * 2 == 38\n",
      "19 * 3 == 57\n",
      "19 * 4 == 76\n",
      "19 * 5 == 95\n",
      "19 * 6 == 114\n",
      "19 * 7 == 133\n",
      "19 * 8 == 152\n",
      "19 * 9 == 171\n",
      "19 * 10 == 190\n"
     ]
    }
   ],
   "source": [
    "#Question 2\n",
    "tablenumber=int(input(\"Enter the number\"))\n",
    "for i in range(1,11):\n",
    "    result=tablenumber*i\n",
    "    print('{0} * {1} == {2}'.format(tablenumber,i,result))"
   ]
  },
  {
   "cell_type": "code",
   "execution_count": 12,
   "id": "f863e957",
   "metadata": {},
   "outputs": [
    {
     "name": "stdout",
     "output_type": "stream",
     "text": [
      "Enter the number12\n",
      "1 1 2 3 5 8 13 21 34 55 89 144 "
     ]
    }
   ],
   "source": [
    "#Question 3\n",
    "fibonaccinum=int(input(\"Enter the number \"))\n",
    "l=[]\n",
    "a=1\n",
    "b=1\n",
    "for i in range(0,fibonaccinum):\n",
    "    l.append(a)\n",
    "    a,b=b,a+b\n",
    "for i in l:\n",
    "    print(i,end=\" \")"
   ]
  },
  {
   "cell_type": "code",
   "execution_count": 25,
   "id": "72fde0a1",
   "metadata": {},
   "outputs": [
    {
     "name": "stdout",
     "output_type": "stream",
     "text": [
      "Enter the number 1634\n",
      "It is a Armstrong Number\n"
     ]
    }
   ],
   "source": [
    "#Question 4\n",
    "num=int(input(\"Enter the number \"))\n",
    "sum=0\n",
    "temp=num\n",
    "order=len(str(num))\n",
    "while temp>0:\n",
    "    digit=temp%10\n",
    "    sum=sum+digit**order\n",
    "    temp=temp//10\n",
    "if(sum==num):\n",
    "    print(\"It is a Armstrong Number\")\n",
    "else:\n",
    "    print(\"It is not a Armstrong number\")   "
   ]
  },
  {
   "cell_type": "code",
   "execution_count": 22,
   "id": "8fc6c313",
   "metadata": {},
   "outputs": [
    {
     "name": "stdout",
     "output_type": "stream",
     "text": [
      "1634 8208 9474 "
     ]
    }
   ],
   "source": [
    "#Question 5\n",
    "lower=1000\n",
    "upper=10000\n",
    "armstrong=[]\n",
    "for i in range(lower,upper+1):\n",
    "    num=i\n",
    "    sum=0\n",
    "    temp=num\n",
    "    order=len(str(num))\n",
    "    while temp>0:\n",
    "        digit=temp%10\n",
    "        sum=sum+digit**order\n",
    "        temp=temp//10\n",
    "    if(sum==num):\n",
    "        armstrong.append(num)\n",
    "for i in armstrong:\n",
    "    print(i,end=\" \")"
   ]
  },
  {
   "cell_type": "code",
   "execution_count": 30,
   "id": "4f4a9763",
   "metadata": {},
   "outputs": [
    {
     "name": "stdout",
     "output_type": "stream",
     "text": [
      "Enter the Number12\n",
      "The Sum is 78\n"
     ]
    }
   ],
   "source": [
    "#Question 6\n",
    "m=int(input(\"Enter the Number \"))\n",
    "sum=0\n",
    "if(m<0 or m==0):\n",
    "    print(\"Please enter number greater than 0\")\n",
    "else:\n",
    "    for i in range(1,m+1):\n",
    "        sum=sum+i\n",
    "print(\"The Sum is {0}\".format(sum))"
   ]
  }
 ],
 "metadata": {
  "kernelspec": {
   "display_name": "Python 3 (ipykernel)",
   "language": "python",
   "name": "python3"
  },
  "language_info": {
   "codemirror_mode": {
    "name": "ipython",
    "version": 3
   },
   "file_extension": ".py",
   "mimetype": "text/x-python",
   "name": "python",
   "nbconvert_exporter": "python",
   "pygments_lexer": "ipython3",
   "version": "3.9.12"
  }
 },
 "nbformat": 4,
 "nbformat_minor": 5
}
