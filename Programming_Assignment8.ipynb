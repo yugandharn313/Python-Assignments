{
 "cells": [
  {
   "cell_type": "code",
   "execution_count": 2,
   "id": "06f23471",
   "metadata": {},
   "outputs": [
    {
     "name": "stdout",
     "output_type": "stream",
     "text": [
      "[6, 8, 10]\n",
      "[71, 13, 15]\n",
      "[92, 66, 99]\n"
     ]
    }
   ],
   "source": [
    "1.#python program to add two matrices\n",
    "a=[[1,2,3],[4,5,6],[7,8,9]]\n",
    "b=[[5,6,7],[67,8,9],[85,58,90]]\n",
    "result = [[a[i][j] + b[i][j]  for j in range(len(a[0]))] for i in range(len(a))]\n",
    "for i in result:\n",
    "    print(i)"
   ]
  },
  {
   "cell_type": "code",
   "execution_count": 4,
   "id": "88049ae2",
   "metadata": {},
   "outputs": [
    {
     "name": "stdout",
     "output_type": "stream",
     "text": [
      "[59, 72, 49, 5]\n",
      "[74, 97, 73, 14]\n",
      "[605, 724, 355, 23]\n"
     ]
    }
   ],
   "source": [
    "2.#python program to multiply two matrices\n",
    "x= [[1, 7, 3],\n",
    "    [4, 5, 6],\n",
    "    [7, 89, 9]]  \n",
    "y= [[5, 8, 1, 2],\n",
    "    [6, 7, 3, 0],\n",
    "    [4, 5, 9, 1]]\n",
    "result = [[0, 0, 0, 0],\n",
    "        [0, 0, 0, 0],\n",
    "        [0, 0, 0, 0]]\n",
    "for i in range(len(x)):\n",
    "    for j in range(len(y[0])):\n",
    "        for k in range(len(y)):\n",
    "            result[i][j] += x[i][k] * y[k][j]\n",
    " \n",
    "for r in result:\n",
    "    print(r)"
   ]
  },
  {
   "cell_type": "code",
   "execution_count": 10,
   "id": "21070e4d",
   "metadata": {},
   "outputs": [
    {
     "name": "stdout",
     "output_type": "stream",
     "text": [
      "[1, 4, 7]\n",
      "[7, 5, 89]\n",
      "[3, 6, 9]\n"
     ]
    }
   ],
   "source": [
    "3.#Python Program to Transpose a Matrix\n",
    "x= [[1, 7, 3],\n",
    "    [4, 5, 6],\n",
    "    [7, 89, 9]] \n",
    "result=[[x[j][i] for j in range(len(x[i]))] for i in range(len(x))]\n",
    "for i in result:\n",
    "    print(i)"
   ]
  },
  {
   "cell_type": "code",
   "execution_count": 2,
   "id": "8ad85c78",
   "metadata": {},
   "outputs": [
    {
     "name": "stdout",
     "output_type": "stream",
     "text": [
      "Enter the sentence Good Morning Have A Nice Day\n",
      "The sorted words are \n",
      "A\n",
      "Day\n",
      "Good\n",
      "Have\n",
      "Morning\n",
      "Nice\n"
     ]
    }
   ],
   "source": [
    "4.#python program to sort words in alphabetical order\n",
    "inputstring=input(\"Enter the sentence \")\n",
    "words=[]\n",
    "for i in inputstring.split():\n",
    "    words.append(i)\n",
    "print(\"The sorted words are \")\n",
    "words.sort()\n",
    "for i in words:\n",
    "    print(i)"
   ]
  },
  {
   "cell_type": "code",
   "execution_count": 4,
   "id": "65785158",
   "metadata": {},
   "outputs": [
    {
     "name": "stdout",
     "output_type": "stream",
     "text": [
      "Enter the Punctuated Sentence Hello!!!, he told the truth ---and went away.\n",
      "The Sentence without punctuation is  Hello he told the truth and went away\n"
     ]
    }
   ],
   "source": [
    "5.#python program to remove punctuation from a string\n",
    "userinput=input(\"Enter the Punctuated Sentence \")\n",
    "punctuations = '''!()-[]{};:'\"\\,<>./?@#$%^&*_~'''\n",
    "result=\"\"\n",
    "for i in userinput:\n",
    "    if i not in punctuations:\n",
    "        result+=i\n",
    "print(\"The Sentence without punctuation is \",result)"
   ]
  }
 ],
 "metadata": {
  "kernelspec": {
   "display_name": "Python 3 (ipykernel)",
   "language": "python",
   "name": "python3"
  },
  "language_info": {
   "codemirror_mode": {
    "name": "ipython",
    "version": 3
   },
   "file_extension": ".py",
   "mimetype": "text/x-python",
   "name": "python",
   "nbconvert_exporter": "python",
   "pygments_lexer": "ipython3",
   "version": "3.9.12"
  }
 },
 "nbformat": 4,
 "nbformat_minor": 5
}
