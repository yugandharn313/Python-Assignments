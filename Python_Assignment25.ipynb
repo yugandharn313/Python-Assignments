{
 "cells": [
  {
   "cell_type": "markdown",
   "id": "4a3be2fb",
   "metadata": {},
   "source": [
    "# 1) . What is the difference between enclosing a list comprehension in square brackets and parentheses?"
   ]
  },
  {
   "cell_type": "markdown",
   "id": "b6cf5816",
   "metadata": {},
   "source": [
    "List Comprehension with square brackets produces list.\n",
    "List Comprehension with parentheses creates generators"
   ]
  },
  {
   "cell_type": "code",
   "execution_count": 1,
   "id": "6ada9544",
   "metadata": {},
   "outputs": [
    {
     "data": {
      "text/plain": [
       "[0, 1, 2, 3, 4, 5, 6, 7, 8]"
      ]
     },
     "execution_count": 1,
     "metadata": {},
     "output_type": "execute_result"
    }
   ],
   "source": [
    "normallist = [i for i in range(9)]\n",
    "normallist"
   ]
  },
  {
   "cell_type": "code",
   "execution_count": 2,
   "id": "dca7a674",
   "metadata": {},
   "outputs": [
    {
     "data": {
      "text/plain": [
       "<generator object <genexpr> at 0x000001E4720C5040>"
      ]
     },
     "execution_count": 2,
     "metadata": {},
     "output_type": "execute_result"
    }
   ],
   "source": [
    "generatorlist = (i for i in range(10))\n",
    "generatorlist"
   ]
  },
  {
   "cell_type": "code",
   "execution_count": 3,
   "id": "87827579",
   "metadata": {},
   "outputs": [
    {
     "data": {
      "text/plain": [
       "[0, 1, 2, 3, 4, 5, 6, 7, 8, 9]"
      ]
     },
     "execution_count": 3,
     "metadata": {},
     "output_type": "execute_result"
    }
   ],
   "source": [
    "list(generatorlist)"
   ]
  },
  {
   "cell_type": "markdown",
   "id": "d2f89606",
   "metadata": {},
   "source": [
    "# 2) What is the relationship between generators and iterators?"
   ]
  },
  {
   "cell_type": "markdown",
   "id": "eb206b22",
   "metadata": {},
   "source": [
    "An iterator is an object which contains a countable number of values and it is used to iterate over iterable objects like list, tuples etc\n",
    "Using an iterator-\n",
    "iter() keyword is used to create an iterator containing an iterable object.\n",
    "next() keyword is used to call the next element in the iterable object.\n",
    "\n",
    "Generator\n",
    "It is another way of creating iterators in a simple way where it uses the keyword “yield” instead of returning it in a defined function\n",
    "Generators are implemented using a function\n",
    "Here, the yield function returns the data without affecting or exiting the function. \n",
    "It will return a sequence of data in an iterable format where we need to iterate over the sequence to use the data as they won’t store the entire sequence in the memory\n",
    "By using next() function we can iterate the output of generator function"
   ]
  },
  {
   "cell_type": "markdown",
   "id": "549e4669",
   "metadata": {},
   "source": [
    "# 3) What are the signs that a function is a generator function?"
   ]
  },
  {
   "cell_type": "markdown",
   "id": "ff617f79",
   "metadata": {},
   "source": [
    "If a function contains atleast one yield statement then it is a generator function."
   ]
  },
  {
   "cell_type": "markdown",
   "id": "f0fdaa66",
   "metadata": {},
   "source": [
    "# 4) What is the purpose of a yield statement?"
   ]
  },
  {
   "cell_type": "markdown",
   "id": "fad3bc34",
   "metadata": {},
   "source": [
    "A yield statement looks much like a return statement, except that instead of stopping execution of the function and \n",
    "returning, yield instead provides a value to the code looping over the generator and pauses execution of the generator \n",
    "function"
   ]
  },
  {
   "cell_type": "markdown",
   "id": "702c91f8",
   "metadata": {},
   "source": [
    "# 5) What is the relationship between map calls and list comprehensions? Make a comparison and contrast between the two."
   ]
  },
  {
   "cell_type": "markdown",
   "id": "c6ab14bc",
   "metadata": {},
   "source": [
    "List Comprehension is a substitute for the lambda function, map(), filter() and reduce(). It follows the form of the mathematical set-builder notation. It provide a concise way to create lists.\n",
    "\n",
    "\n",
    "List comprehension is more concise and easier to read as compared to map.\n",
    "List comprehension allows filtering. In map, we have no such facility. For example, to print all even numbers in range of 100, we can write [n for n in range(100) if n%2 == 0]. There is no alternate for it in map\n",
    "List comprehension are used when a list of results is required as map only returns a map object and does not return any list.\n",
    "List comprehension is faster than map when we need to evaluate expressions that are too long or complicated to express\n",
    "Map is faster in case of calling an already defined function (as no lambda is required)."
   ]
  }
 ],
 "metadata": {
  "kernelspec": {
   "display_name": "Python 3 (ipykernel)",
   "language": "python",
   "name": "python3"
  },
  "language_info": {
   "codemirror_mode": {
    "name": "ipython",
    "version": 3
   },
   "file_extension": ".py",
   "mimetype": "text/x-python",
   "name": "python",
   "nbconvert_exporter": "python",
   "pygments_lexer": "ipython3",
   "version": "3.9.12"
  }
 },
 "nbformat": 4,
 "nbformat_minor": 5
}
