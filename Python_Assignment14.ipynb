{
 "cells": [
  {
   "cell_type": "markdown",
   "id": "4149bbb8",
   "metadata": {},
   "source": [
    "# 1. What does RGBA stand for?"
   ]
  },
  {
   "cell_type": "markdown",
   "id": "3e261e6c",
   "metadata": {},
   "source": [
    "RGBA stands for red ,green ,blue and alpha(trasparency) in the color"
   ]
  },
  {
   "cell_type": "markdown",
   "id": "1e9af33d",
   "metadata": {},
   "source": [
    "# 2. From the Pillow module, how do you get the RGBA value of any images?"
   ]
  },
  {
   "cell_type": "code",
   "execution_count": 1,
   "id": "a2de6cc4",
   "metadata": {},
   "outputs": [
    {
     "data": {
      "text/plain": [
       "(0, 128, 0, 255)"
      ]
     },
     "execution_count": 1,
     "metadata": {},
     "output_type": "execute_result"
    }
   ],
   "source": [
    "from PIL import ImageColor\n",
    "ImageColor.getcolor('red', 'RGBA')\n",
    "ImageColor.getcolor('green', 'RGBA')"
   ]
  },
  {
   "cell_type": "markdown",
   "id": "66b38258",
   "metadata": {},
   "source": [
    "# 3. What is a box tuple, and how does it work?"
   ]
  },
  {
   "cell_type": "markdown",
   "id": "777df538",
   "metadata": {},
   "source": [
    "The box.tuple submodule provides read-only access for the tuple userdata type"
   ]
  },
  {
   "cell_type": "markdown",
   "id": "fc145db6",
   "metadata": {},
   "source": [
    "# 4. Use your image and load in notebook then, How can you find out the width and height of an Image object?"
   ]
  },
  {
   "cell_type": "markdown",
   "id": "756be17a",
   "metadata": {},
   "source": [
    "from PIL import Image\n",
    "image = Image.open(imagepath)\n",
    "width,height = myImg.size\n",
    "width,height"
   ]
  },
  {
   "cell_type": "markdown",
   "id": "5be03895",
   "metadata": {},
   "source": [
    "# 5. What method would you call to get Image object for a 100×100 image, excluding the lower-left quarter of it?"
   ]
  },
  {
   "cell_type": "markdown",
   "id": "f83e8021",
   "metadata": {},
   "source": [
    "ImageObject.crop((0, 50, 50, 50))"
   ]
  },
  {
   "cell_type": "markdown",
   "id": "771ed329",
   "metadata": {},
   "source": [
    "# 6. After making changes to an Image object, how could you save it as an image file?"
   ]
  },
  {
   "cell_type": "markdown",
   "id": "d19c56bb",
   "metadata": {},
   "source": [
    "Calling the imageObj.save('new_file.png') method of the Image object."
   ]
  },
  {
   "cell_type": "markdown",
   "id": "8444f55d",
   "metadata": {},
   "source": [
    "# 7. What module contains Pillow’s shape-drawing code?"
   ]
  },
  {
   "cell_type": "markdown",
   "id": "a9987374",
   "metadata": {},
   "source": [
    "The ImageDraw module contains code to draw on images"
   ]
  },
  {
   "cell_type": "markdown",
   "id": "90d12436",
   "metadata": {},
   "source": [
    "# 8. Image objects do not have drawing methods. What kind of object does? How do you get this kind of object?"
   ]
  },
  {
   "cell_type": "markdown",
   "id": "270bc93d",
   "metadata": {},
   "source": [
    "ImageDraw objects have shape-drawing methods such as point(), line(), or rectangle(). They are returned by passing the Image object to the ImageDraw.Draw() function"
   ]
  }
 ],
 "metadata": {
  "kernelspec": {
   "display_name": "Python 3 (ipykernel)",
   "language": "python",
   "name": "python3"
  },
  "language_info": {
   "codemirror_mode": {
    "name": "ipython",
    "version": 3
   },
   "file_extension": ".py",
   "mimetype": "text/x-python",
   "name": "python",
   "nbconvert_exporter": "python",
   "pygments_lexer": "ipython3",
   "version": "3.9.12"
  }
 },
 "nbformat": 4,
 "nbformat_minor": 5
}
