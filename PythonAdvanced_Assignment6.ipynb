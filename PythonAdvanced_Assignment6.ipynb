{
 "cells": [
  {
   "cell_type": "markdown",
   "id": "d9c7524e",
   "metadata": {},
   "source": [
    "#1 Question Answer\n",
    "\n",
    " Exception Processing is important to find exceptions that causes the runtime error. As runtime errors Halt the program execution when exception occurs.\n",
    "\n",
    "Exception Processing is used in Various Applications of which few examples are:\n",
    "\n",
    "Checking Appropriate use of input in an application\n",
    "Checking for Arithmetic exceptions in mathematical executions\n",
    "Checking File I/O exceptions during File handling"
   ]
  },
  {
   "cell_type": "markdown",
   "id": "4b9d0b1a",
   "metadata": {},
   "source": [
    "#2 Question Answer\n",
    "\n",
    "f Exceptions are not handled flow of program will be broken during the run time which might lead to a abnormal termination of the program. Inshort inability of program to handle exceptions will result in crashing of program."
   ]
  },
  {
   "cell_type": "markdown",
   "id": "68cdc1fb",
   "metadata": {},
   "source": [
    "#3 Question Answer\n",
    "\n",
    "Python Provides try and expect to recover from an exception in an script"
   ]
  },
  {
   "cell_type": "markdown",
   "id": "9317a10b",
   "metadata": {},
   "source": [
    "#4 Question Answer\n",
    "\n",
    "raise and assert are two methods that can be used to trigger manual exceptions in your script.\n",
    "\n",
    "raise method triggers an exception if condition provided to it turns out to be True.\n",
    "assert will let the program to continue execution if condition provided to it turns out to be True else exception will be raised"
   ]
  },
  {
   "cell_type": "markdown",
   "id": "4898a61c",
   "metadata": {},
   "source": [
    "#5 Question Answer\n",
    "\n",
    "Python Provides else and finally blocks for specifying actions to be executed at termination time, regardless of whether an exceptions exists or not."
   ]
  }
 ],
 "metadata": {
  "kernelspec": {
   "display_name": "Python 3 (ipykernel)",
   "language": "python",
   "name": "python3"
  },
  "language_info": {
   "codemirror_mode": {
    "name": "ipython",
    "version": 3
   },
   "file_extension": ".py",
   "mimetype": "text/x-python",
   "name": "python",
   "nbconvert_exporter": "python",
   "pygments_lexer": "ipython3",
   "version": "3.9.12"
  }
 },
 "nbformat": 4,
 "nbformat_minor": 5
}
