{
 "cells": [
  {
   "cell_type": "markdown",
   "id": "ec91c49b",
   "metadata": {},
   "source": [
    "# 1. How do you distinguish between shutil.copy() and shutil.copytree()?"
   ]
  },
  {
   "cell_type": "markdown",
   "id": "2a8277fd",
   "metadata": {},
   "source": [
    "shutil.copy() copies a single file. shutil.copytree() copies entire folder and files contained in it."
   ]
  },
  {
   "cell_type": "markdown",
   "id": "d0f16318",
   "metadata": {},
   "source": [
    "# 2. What function is used to rename files??"
   ]
  },
  {
   "cell_type": "markdown",
   "id": "ddd9b236",
   "metadata": {},
   "source": [
    "os.rename('base.txt','test.txt')"
   ]
  },
  {
   "cell_type": "markdown",
   "id": "a723b539",
   "metadata": {},
   "source": [
    "# 3. What is the difference between the delete functions in the send2trash and shutil modules?"
   ]
  },
  {
   "cell_type": "markdown",
   "id": "51d02677",
   "metadata": {},
   "source": [
    "rmtree() in shutil module is used to delete the files or folders permanently . send2trash() in send2trash() module sends the files to trash bin instead of permanently deleting them."
   ]
  },
  {
   "cell_type": "markdown",
   "id": "865b19f7",
   "metadata": {},
   "source": [
    "# 4. ZipFile objects have a close() method just like File objects’ close() method. What ZipFile method is equivalent to File objects’ open() method?"
   ]
  },
  {
   "cell_type": "markdown",
   "id": "11d0552f",
   "metadata": {},
   "source": [
    "from zipfile import Zipfile\n",
    "with ZipFile(file_name, 'r') as zip: -> this code will open specified zipfile for us. we can use zip objext to preform oother operation the ziplife. like zip.read()"
   ]
  },
  {
   "cell_type": "markdown",
   "id": "9ef2c595",
   "metadata": {},
   "source": [
    "# 5. Create a programme that searches a folder tree for files with a certain file extension (such as .pdf or .jpg). Copy these files from whatever location they are in to a new folder."
   ]
  },
  {
   "cell_type": "code",
   "execution_count": 4,
   "id": "ab33325c",
   "metadata": {},
   "outputs": [
    {
     "name": "stdout",
     "output_type": "stream",
     "text": [
      "Searching in D:\\Source for files with extensions of .mp4, .txt, .jpg\n",
      "Coping D:\\Source\\18TH Nov Pandas Class.txt to D:\\DestFolder\n"
     ]
    }
   ],
   "source": [
    "import os,shutil\n",
    "def search(source,extensions,destfolder):\n",
    "    folder=os.path.abspath(source)\n",
    "    destfolder=os.path.abspath(destFolder)\n",
    "    print('Searching in', source, 'for files with extensions of', ', '.join(extensions))\n",
    "    for foldername, subfolders, filenames in os.walk(source):\n",
    "        for filename in filenames:\n",
    "            name, extension = os.path.splitext(filename)\n",
    "            if extension in extensions:\n",
    "                fileAbsPath = foldername + os.path.sep + filename\n",
    "                print('Coping', fileAbsPath, 'to', destFolder)\n",
    "                shutil.copy(fileAbsPath, destFolder)\n",
    "extensions = ['.mp4', '.txt','.jpg']\n",
    "source = \"D:\\Source\"\n",
    "destFolder = \"D:\\DestFolder\"\n",
    "search(source, extensions, destFolder)"
   ]
  }
 ],
 "metadata": {
  "kernelspec": {
   "display_name": "Python 3 (ipykernel)",
   "language": "python",
   "name": "python3"
  },
  "language_info": {
   "codemirror_mode": {
    "name": "ipython",
    "version": 3
   },
   "file_extension": ".py",
   "mimetype": "text/x-python",
   "name": "python",
   "nbconvert_exporter": "python",
   "pygments_lexer": "ipython3",
   "version": "3.9.12"
  }
 },
 "nbformat": 4,
 "nbformat_minor": 5
}
