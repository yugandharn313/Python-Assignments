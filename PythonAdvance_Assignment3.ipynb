{
 "cells": [
  {
   "cell_type": "markdown",
   "id": "723a6f20",
   "metadata": {},
   "source": [
    "# 1. What is the concept of an abstract superclass?"
   ]
  },
  {
   "cell_type": "markdown",
   "id": "74d14420",
   "metadata": {},
   "source": [
    "An abstract class/superclass can be considered as a blueprint for other classes. It allows you to create a set of methods that must be created within any child classes built from the abstract class. A class which contains one or more abstract methods is called an abstract class.\n",
    "\n",
    "Whereas an abstract method is a method that has a declaration but does not have an implementation"
   ]
  },
  {
   "cell_type": "code",
   "execution_count": 1,
   "id": "dedcc1f2",
   "metadata": {},
   "outputs": [],
   "source": [
    "from abc import ABC, abstractmethod\n",
    "class rectangle(ABC): # Abstract Class\n",
    "    @abstractmethod\n",
    "    def noofsides(self): # Abstract Method\n",
    "        pass\n",
    "class Triangle(rectangle):\n",
    "    def noofsides(self):  # overriding abstract method in child class Triangle\n",
    "        print(\"I have 3 sides\")\n",
    "class Pentagon(rectangle):\n",
    "    def noofsides(self): # overriding abstract method in child class Pentagon\n",
    "        print(\"I have 5 sides\")"
   ]
  },
  {
   "cell_type": "markdown",
   "id": "d0e7d1b9",
   "metadata": {},
   "source": [
    "# 2. What happens when a class statement's top level contains a basic assignment statement?"
   ]
  },
  {
   "cell_type": "markdown",
   "id": "981adcf0",
   "metadata": {},
   "source": [
    "When a Class statement's top level contains a basic assignment statement, its usually treated as a class attribute or class level variable.\n",
    "\n",
    "where as assignment statements inside methods are treated as instance attributes or local attributes.\n",
    "\n",
    "When an instance of a class is created a single copy of class attributes is maintained and shared to all instances of class. where as each instance object maintains its own copy of instance variables."
   ]
  },
  {
   "cell_type": "markdown",
   "id": "e725594e",
   "metadata": {},
   "source": [
    "# 3. Why does a class need to manually call a superclass's init method?"
   ]
  },
  {
   "cell_type": "markdown",
   "id": "7a45d9da",
   "metadata": {},
   "source": [
    " if a child class has __init__ method, then it will not inherit the __init__ method of the parent class. in other words the __init__ method of the child class overrides the __init__ method of the parent class. so we have to manually call a parent superclass's __init__ using super() method"
   ]
  },
  {
   "cell_type": "code",
   "execution_count": 2,
   "id": "e34085be",
   "metadata": {},
   "outputs": [
    {
     "name": "stdout",
     "output_type": "stream",
     "text": [
      "{'name': 'Santhosh', 'age': 28, 'salary': 20000}\n"
     ]
    }
   ],
   "source": [
    "class Person:\n",
    "    def __init__(self,name,age):\n",
    "        self.name = name\n",
    "        self.age = age       \n",
    "class Employee(Person):\n",
    "    def __init__(self,name,age,salary):\n",
    "        super().__init__(name,age)\n",
    "        self.salary = salary\n",
    "emp_1 = Employee('Santhosh',28,20000)\n",
    "print(emp_1.__dict__)"
   ]
  },
  {
   "cell_type": "markdown",
   "id": "0da8aed1",
   "metadata": {},
   "source": [
    "# 4. How can you augment, instead of completely replacing, an inherited method?"
   ]
  },
  {
   "cell_type": "markdown",
   "id": "14dc5f04",
   "metadata": {},
   "source": [
    "super() method can be used to augment, instead of completely replacing, an inherited method."
   ]
  },
  {
   "cell_type": "code",
   "execution_count": 3,
   "id": "4ad7a77b",
   "metadata": {},
   "outputs": [
    {
     "name": "stdout",
     "output_type": "stream",
     "text": [
      "{'name': 'Vivek', 'gender': 'Male', 'salary': 10000}\n"
     ]
    }
   ],
   "source": [
    "class Person:\n",
    "    def __init__(self,name,gender):\n",
    "        self.name = name\n",
    "        self.gender = gender\n",
    "class Employee(Person):\n",
    "    def __init__(self,name,gender,salary):\n",
    "        super().__init__(name,gender) \n",
    "        self.salary = salary\n",
    "emp_1 = Employee('Vivek','Male',10000)\n",
    "print(emp_1.__dict__)      "
   ]
  },
  {
   "cell_type": "markdown",
   "id": "38e7727d",
   "metadata": {},
   "source": [
    "# 5.How is the local scope of a class different from that of a function?"
   ]
  },
  {
   "cell_type": "markdown",
   "id": "e52ca8bc",
   "metadata": {},
   "source": [
    "A Variable which is defined inside a function is local to that function. it is accesible from the point at which it is defined until the end of the function, and exists for as long as the function is existing.\n",
    "\n",
    "Similary a variable inside of a class also has a local variable scope. Variables which are defined in the class body (but outside all methods) are called as class level variables or class attributes. they can be referenced by there bare names within the same scope, but they can also be accessed from outside this scope if we use the attribute access operator (.). on a class or an instance of the class"
   ]
  }
 ],
 "metadata": {
  "kernelspec": {
   "display_name": "Python 3 (ipykernel)",
   "language": "python",
   "name": "python3"
  },
  "language_info": {
   "codemirror_mode": {
    "name": "ipython",
    "version": 3
   },
   "file_extension": ".py",
   "mimetype": "text/x-python",
   "name": "python",
   "nbconvert_exporter": "python",
   "pygments_lexer": "ipython3",
   "version": "3.9.12"
  }
 },
 "nbformat": 4,
 "nbformat_minor": 5
}
