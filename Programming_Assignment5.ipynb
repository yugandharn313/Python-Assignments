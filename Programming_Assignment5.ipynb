{
 "cells": [
  {
   "cell_type": "code",
   "execution_count": 13,
   "id": "40b37eef",
   "metadata": {},
   "outputs": [
    {
     "name": "stdout",
     "output_type": "stream",
     "text": [
      "Enter the First Number 12\n",
      "Enter the Second Number 18\n",
      "The LCM of the two numbers is 36\n"
     ]
    }
   ],
   "source": [
    "#Question 1\n",
    "number1=int(input(\"Enter the First Number \"))\n",
    "number2=int(input(\"Enter the Second Number \"))\n",
    "l=[]\n",
    "number=0\n",
    "if(number1>number2):\n",
    "    number=number1\n",
    "else:\n",
    "    number=number2    \n",
    "for i in range(number,number1*number2):\n",
    "    if(i%number1==0 and i%number2==0):\n",
    "        l.append(i)\n",
    "l.sort()\n",
    "print(\"The LCM of the two numbers is {0}\".format(l[0]))"
   ]
  },
  {
   "cell_type": "code",
   "execution_count": 17,
   "id": "9a125229",
   "metadata": {},
   "outputs": [
    {
     "name": "stdout",
     "output_type": "stream",
     "text": [
      "Enter the First Number 36\n",
      "Enter the Second Number 54\n",
      "The HCF of two numbers is 18\n"
     ]
    }
   ],
   "source": [
    "#Question 2\n",
    "m=int(input(\"Enter the First Number \"))\n",
    "n=int(input(\"Enter the Second Number \"))\n",
    "HCF=1\n",
    "for i in range(2,m+1):\n",
    "    if(m%i==0 and n%i==0):\n",
    "        HCF=i\n",
    "print(\"The HCF of two numbers is {0}\".format(HCF))"
   ]
  },
  {
   "cell_type": "code",
   "execution_count": 2,
   "id": "da05bd29",
   "metadata": {},
   "outputs": [
    {
     "name": "stdout",
     "output_type": "stream",
     "text": [
      "Enter the Number in Decimal Value189\n",
      "The Binary Value is 0b10111101\n",
      "The Octal Value is 0o275\n",
      "The HexaDecimal Value is 0xbd\n"
     ]
    }
   ],
   "source": [
    "#Question 3\n",
    "a=int(input(\"Enter the Number in Decimal Value\"))\n",
    "print(\"The Binary Value is {0}\".format(bin(a)))\n",
    "print(\"The Octal Value is {0}\".format(oct(a)))\n",
    "print(\"The HexaDecimal Value is {0}\".format(hex(a)))"
   ]
  },
  {
   "cell_type": "code",
   "execution_count": 3,
   "id": "8bbaf7e0",
   "metadata": {},
   "outputs": [
    {
     "name": "stdout",
     "output_type": "stream",
     "text": [
      "Enter the Character A\n",
      "The ASCII value is 65\n"
     ]
    }
   ],
   "source": [
    "#Question 4\n",
    "char=input(\"Enter the Character \")\n",
    "print(\"The ASCII value is {0}\".format(ord(char)))"
   ]
  },
  {
   "cell_type": "code",
   "execution_count": 5,
   "id": "0dcf7597",
   "metadata": {},
   "outputs": [
    {
     "name": "stdout",
     "output_type": "stream",
     "text": [
      "Enter the number171\n",
      "Enter the number19\n",
      "The Addition Result is 190\n",
      "The Subtraction Result is 152\n",
      "The Multiplication Result is 3249\n",
      "The Divison Result is 9.0\n"
     ]
    }
   ],
   "source": [
    "#Question 5\n",
    "num1=int(input(\"Enter the number\"))\n",
    "num2=int(input(\"Enter the number\"))\n",
    "print(\"The Addition Result is {0}\".format(num1+num2))\n",
    "print(\"The Subtraction Result is {0}\".format(num1-num2))\n",
    "print(\"The Multiplication Result is {0}\".format(num1*num2))\n",
    "print(\"The Divison Result is {0}\".format(num1/num2))"
   ]
  }
 ],
 "metadata": {
  "kernelspec": {
   "display_name": "Python 3 (ipykernel)",
   "language": "python",
   "name": "python3"
  },
  "language_info": {
   "codemirror_mode": {
    "name": "ipython",
    "version": 3
   },
   "file_extension": ".py",
   "mimetype": "text/x-python",
   "name": "python",
   "nbconvert_exporter": "python",
   "pygments_lexer": "ipython3",
   "version": "3.9.12"
  }
 },
 "nbformat": 4,
 "nbformat_minor": 5
}
