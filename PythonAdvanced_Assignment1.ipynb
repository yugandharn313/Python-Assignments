{
 "cells": [
  {
   "cell_type": "markdown",
   "id": "7e66f343",
   "metadata": {},
   "source": [
    "# 1. What is the purpose of Python's OOP?\n",
    "\n",
    "1.The Object Oriented programming makes the program easy to understand as well as efficient.\n",
    "2.Code can be reused because class is sharable.\n",
    "3.Data is safe and secure with data abstraction.\n",
    "4.Polymorphism allows the same interface for different objects, so programmers can write efficient code\n",
    "5.inherit feature allows programmer to inhetit the methods from existing programs."
   ]
  },
  {
   "cell_type": "markdown",
   "id": "17f2f3cb",
   "metadata": {},
   "source": [
    "# Q2. Where does an inheritance search look for an attribute?"
   ]
  },
  {
   "cell_type": "markdown",
   "id": "c42a8b05",
   "metadata": {},
   "source": [
    "Inheritance search happens in bottom up fashion. its starts form object.attr and search all the way up to the parent class to find the find the first occurrence of attribute by looking in object, then in all classes above it, from bottom to top and left to right"
   ]
  },
  {
   "cell_type": "markdown",
   "id": "4f839fdb",
   "metadata": {},
   "source": [
    "# Q3. How do you distinguish between a class object and an instance object?"
   ]
  },
  {
   "cell_type": "markdown",
   "id": "c30be0c6",
   "metadata": {},
   "source": [
    "Class Object - when we create a class , a class object is created.The class name itself is class object. we can access class variable using this class name\n",
    "\n",
    "    Example  class test:\n",
    "                x = 10\n",
    "                def __init__(self,a,b)\n",
    "                    self.a = a\n",
    "                    self.b = b\n",
    "            print(test.x)\n",
    "\n",
    "using this text.x we can access its class variables.. We can have only one class objects for a class.\n",
    "\n",
    "Instance Object - when we access class with paranthesis like test(), this will creat a instance of a class. we can have n numbers of instance objects for same class."
   ]
  },
  {
   "cell_type": "code",
   "execution_count": 1,
   "id": "6c7e8d0c",
   "metadata": {},
   "outputs": [
    {
     "name": "stdout",
     "output_type": "stream",
     "text": [
      "10\n"
     ]
    }
   ],
   "source": [
    "## Class object\n",
    "class test:\n",
    "    x = 10\n",
    "    def __init__(self,a,b):\n",
    "        self.a = a\n",
    "        self.b = b\n",
    "print(test.x)"
   ]
  },
  {
   "cell_type": "code",
   "execution_count": 2,
   "id": "f64a077f",
   "metadata": {},
   "outputs": [
    {
     "data": {
      "text/plain": [
       "3"
      ]
     },
     "execution_count": 2,
     "metadata": {},
     "output_type": "execute_result"
    }
   ],
   "source": [
    "## instance object\n",
    "instObj = test(3,4)\n",
    "instObj.a"
   ]
  },
  {
   "cell_type": "markdown",
   "id": "49c854a0",
   "metadata": {},
   "source": [
    "# 4. What makes the first argument in a class’s method function special?"
   ]
  },
  {
   "cell_type": "markdown",
   "id": "1ba01da0",
   "metadata": {},
   "source": [
    "The first argument in a class method is self it refers to the instance of a class and binds the attributes with the given arguments."
   ]
  },
  {
   "cell_type": "markdown",
   "id": "472bede1",
   "metadata": {},
   "source": [
    "# 5. What is the purpose of the init method?"
   ]
  },
  {
   "cell_type": "markdown",
   "id": "7df0d361",
   "metadata": {},
   "source": [
    "init method is constructor of the class whenever we create an instance of a class the init method will get invoked and it allow the class to initialize the attributes of a class"
   ]
  },
  {
   "cell_type": "markdown",
   "id": "0170a08c",
   "metadata": {},
   "source": [
    "# 6. What is the process for creating a class instance?"
   ]
  },
  {
   "cell_type": "markdown",
   "id": "90c0a872",
   "metadata": {},
   "source": [
    "1.Create the class \n",
    "2.call the class and assign it to some variable(object variable)\n",
    "3.pass in whatever arguments its init method accepts"
   ]
  },
  {
   "cell_type": "code",
   "execution_count": 4,
   "id": "1083a25e",
   "metadata": {},
   "outputs": [
    {
     "name": "stdout",
     "output_type": "stream",
     "text": [
      "George\n"
     ]
    }
   ],
   "source": [
    "class Good:\n",
    "    Name='George'\n",
    "    def display(self):\n",
    "        print(Good.Name)\n",
    "#class instance\n",
    "classObj=Good()\n",
    "classObj.display()"
   ]
  },
  {
   "cell_type": "markdown",
   "id": "e385e8f4",
   "metadata": {},
   "source": [
    "# Q7. What is the process for creating a class?"
   ]
  },
  {
   "cell_type": "markdown",
   "id": "83ede00b",
   "metadata": {},
   "source": [
    "process to create class\n",
    "\n",
    "class definition starts with keyword class\n",
    "follwed by classname and ':'\n",
    "class will have doc string\n",
    "class should have at least one statements."
   ]
  },
  {
   "cell_type": "markdown",
   "id": "8d4cf5bf",
   "metadata": {},
   "source": [
    "# 8. How would you define the superclasses of a class?"
   ]
  },
  {
   "cell_type": "markdown",
   "id": "dd085e48",
   "metadata": {},
   "source": [
    "The class from which a class inherits is called the parent or superclass"
   ]
  }
 ],
 "metadata": {
  "kernelspec": {
   "display_name": "Python 3 (ipykernel)",
   "language": "python",
   "name": "python3"
  },
  "language_info": {
   "codemirror_mode": {
    "name": "ipython",
    "version": 3
   },
   "file_extension": ".py",
   "mimetype": "text/x-python",
   "name": "python",
   "nbconvert_exporter": "python",
   "pygments_lexer": "ipython3",
   "version": "3.9.12"
  }
 },
 "nbformat": 4,
 "nbformat_minor": 5
}
