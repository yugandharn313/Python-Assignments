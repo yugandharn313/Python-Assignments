{
 "cells": [
  {
   "cell_type": "markdown",
   "id": "69c27d2e",
   "metadata": {},
   "source": [
    "# 1. To what does a relative path refer?"
   ]
  },
  {
   "cell_type": "markdown",
   "id": "d879abaa",
   "metadata": {},
   "source": [
    "The relative path is the path of the file with respect to current working directory(PWD)."
   ]
  },
  {
   "cell_type": "markdown",
   "id": "350c8120",
   "metadata": {},
   "source": [
    "# 2. What does an absolute path start with your operating system?"
   ]
  },
  {
   "cell_type": "markdown",
   "id": "868ef32a",
   "metadata": {},
   "source": [
    "An absolute path always begins from the absolute start of your hard drive and describes every step you must take through the filesystem to end up at the target location"
   ]
  },
  {
   "cell_type": "markdown",
   "id": "b1bd4028",
   "metadata": {},
   "source": [
    "# 3. What do the functions os.getcwd() and os.chdir() do?"
   ]
  },
  {
   "cell_type": "markdown",
   "id": "51b4b900",
   "metadata": {},
   "source": [
    "os.getcwd() is an inbuilt python command to get the current working directory and os.chdir() is to change the current working directory."
   ]
  },
  {
   "cell_type": "markdown",
   "id": "669d8891",
   "metadata": {},
   "source": [
    "# 4. What are the . and .. folders?"
   ]
  },
  {
   "cell_type": "markdown",
   "id": "fe82ff47",
   "metadata": {},
   "source": [
    "The . is the current directory, while .. signifies the parent directory."
   ]
  },
  {
   "cell_type": "markdown",
   "id": "2679dd0b",
   "metadata": {},
   "source": [
    "# 5. In C:\\bacon\\eggs\\spam.txt, which part is the dir name, and which part is the base name?"
   ]
  },
  {
   "cell_type": "markdown",
   "id": "da977bac",
   "metadata": {},
   "source": [
    "The dir name is C:\\bacon\\eggs and os.path.dirname() is used to get the dir name of the path. The base name is spam.txt and os.path.basename() can be used to get the base name."
   ]
  },
  {
   "cell_type": "markdown",
   "id": "3d2995aa",
   "metadata": {},
   "source": [
    "# 6. What are the three “mode” arguments that can be passed to the open() function?"
   ]
  },
  {
   "cell_type": "markdown",
   "id": "2cead1b7",
   "metadata": {},
   "source": [
    "The first mode is 'r' is used to open the file for reading , the second mode is 'w' to open the file for writing and the third mode is 'a' to append at the end of the file without truncating it."
   ]
  },
  {
   "cell_type": "markdown",
   "id": "283c7c17",
   "metadata": {},
   "source": [
    "# 7. What happens if an existing file is opened in write mode?"
   ]
  },
  {
   "cell_type": "markdown",
   "id": "dbf0a410",
   "metadata": {},
   "source": [
    "The contents previously present in the file will be overwritten."
   ]
  },
  {
   "cell_type": "markdown",
   "id": "69350cd3",
   "metadata": {},
   "source": [
    "# 8. How do you tell the difference between read() and readlines()?"
   ]
  },
  {
   "cell_type": "markdown",
   "id": "6ca5f674",
   "metadata": {},
   "source": [
    "read() reads the entire contents of the file into a string. readline() just reads file till the next line."
   ]
  },
  {
   "cell_type": "markdown",
   "id": "694443c7",
   "metadata": {},
   "source": [
    "# 9. What data structure does a shelf value resemble?"
   ]
  },
  {
   "cell_type": "code",
   "execution_count": null,
   "id": "2bc2f541",
   "metadata": {},
   "outputs": [],
   "source": [
    "Dictionary Value."
   ]
  }
 ],
 "metadata": {
  "kernelspec": {
   "display_name": "Python 3 (ipykernel)",
   "language": "python",
   "name": "python3"
  },
  "language_info": {
   "codemirror_mode": {
    "name": "ipython",
    "version": 3
   },
   "file_extension": ".py",
   "mimetype": "text/x-python",
   "name": "python",
   "nbconvert_exporter": "python",
   "pygments_lexer": "ipython3",
   "version": "3.9.12"
  }
 },
 "nbformat": 4,
 "nbformat_minor": 5
}
