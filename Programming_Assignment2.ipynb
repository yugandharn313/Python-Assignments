{
 "cells": [
  {
   "cell_type": "code",
   "execution_count": 1,
   "id": "a2454fed",
   "metadata": {},
   "outputs": [
    {
     "name": "stdout",
     "output_type": "stream",
     "text": [
      "Enter the Kilometer12\n",
      "7.452\n"
     ]
    }
   ],
   "source": [
    "#Question 1\n",
    "kilometer=float(input(\"Enter the Kilometer\"))\n",
    "miles=0.621*kilometer\n",
    "print(miles)"
   ]
  },
  {
   "cell_type": "code",
   "execution_count": 2,
   "id": "3e0fb0d9",
   "metadata": {},
   "outputs": [
    {
     "name": "stdout",
     "output_type": "stream",
     "text": [
      "Enter the temperature in celsius97\n",
      "The temperature in fahrenheit is 206.6\n"
     ]
    }
   ],
   "source": [
    "#Question 2\n",
    "Temperature=float(input(\"Enter the temperature in celsius\"))\n",
    "FahrenheitTemperature=1.8*Temperature+32\n",
    "print(\"The temperature in fahrenheit is\",FahrenheitTemperature)"
   ]
  },
  {
   "cell_type": "code",
   "execution_count": 3,
   "id": "6c1faa59",
   "metadata": {},
   "outputs": [
    {
     "name": "stdout",
     "output_type": "stream",
     "text": [
      "Enter the Year2021\n",
      "Enter the month07\n",
      "     July 2021\n",
      "Mo Tu We Th Fr Sa Su\n",
      "          1  2  3  4\n",
      " 5  6  7  8  9 10 11\n",
      "12 13 14 15 16 17 18\n",
      "19 20 21 22 23 24 25\n",
      "26 27 28 29 30 31\n",
      "\n"
     ]
    }
   ],
   "source": [
    "#Question 3 \n",
    "import calendar\n",
    "yy=int(input(\"Enter the Year\"))\n",
    "mm=int(input(\"Enter the month\"))\n",
    "print(calendar.month(yy,mm))"
   ]
  },
  {
   "cell_type": "code",
   "execution_count": 4,
   "id": "98a0d29f",
   "metadata": {},
   "outputs": [
    {
     "name": "stdout",
     "output_type": "stream",
     "text": [
      "2\n",
      "3\n",
      "4\n",
      "The solutions for the qudratic equation are (-3-4.795831523312719j) and (-3+4.795831523312719j)\n"
     ]
    }
   ],
   "source": [
    "#Question 4\n",
    "import cmath\n",
    "a=int(input())\n",
    "b=int(input())\n",
    "c=int(input())\n",
    "d=(b**2)-(4*a*c)\n",
    "Solution1=(-b-cmath.sqrt(d))/2*a\n",
    "Solution2=(-b+cmath.sqrt(d))/2*a\n",
    "print('The solutions for the qudratic equation are {0} and {1}'.format(Solution1,Solution2))"
   ]
  },
  {
   "cell_type": "code",
   "execution_count": 6,
   "id": "bfd01f50",
   "metadata": {},
   "outputs": [
    {
     "name": "stdout",
     "output_type": "stream",
     "text": [
      "Enter a12\n",
      "Enter b3\n",
      "After Swapping a and b are 3 and 15\n"
     ]
    }
   ],
   "source": [
    "#Question 5\n",
    "a=int(input(\"Enter a\"))\n",
    "b=int(input(\"Enter b\"))\n",
    "print('After Swapping a and b are {0} and {1}'.format(b,a+b))"
   ]
  },
  {
   "cell_type": "code",
   "execution_count": null,
   "id": "13f12f1b",
   "metadata": {},
   "outputs": [],
   "source": []
  }
 ],
 "metadata": {
  "kernelspec": {
   "display_name": "Python 3 (ipykernel)",
   "language": "python",
   "name": "python3"
  },
  "language_info": {
   "codemirror_mode": {
    "name": "ipython",
    "version": 3
   },
   "file_extension": ".py",
   "mimetype": "text/x-python",
   "name": "python",
   "nbconvert_exporter": "python",
   "pygments_lexer": "ipython3",
   "version": "3.9.12"
  }
 },
 "nbformat": 4,
 "nbformat_minor": 5
}
