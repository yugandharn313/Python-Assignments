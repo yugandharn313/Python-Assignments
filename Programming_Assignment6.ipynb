{
 "cells": [
  {
   "cell_type": "code",
   "execution_count": 3,
   "id": "353d7a7e",
   "metadata": {},
   "outputs": [
    {
     "name": "stdout",
     "output_type": "stream",
     "text": [
      "Enter the Number10\n",
      "0 1 1 2 3 5 8 13 21 34 "
     ]
    }
   ],
   "source": [
    "#Question 1\n",
    "def fibonacci(n):\n",
    "    if(n<=1):\n",
    "        return n\n",
    "    else:\n",
    "        return fibonacci(n-1)+fibonacci(n-2)\n",
    "number=int(input(\"Enter the Number\"))\n",
    "if(number<0):\n",
    "    print(\"Enter the Valid number\")\n",
    "else:\n",
    "    for i in range(number):\n",
    "        print(fibonacci(i),end=\" \")"
   ]
  },
  {
   "cell_type": "code",
   "execution_count": 7,
   "id": "f7735f6c",
   "metadata": {},
   "outputs": [
    {
     "name": "stdout",
     "output_type": "stream",
     "text": [
      "Enter the Number 6\n",
      "The Factorial of 6 is 720\n"
     ]
    }
   ],
   "source": [
    "#Question 2\n",
    "def factorial(n):\n",
    "    if(n==1):\n",
    "        return n\n",
    "    else:\n",
    "        return n*factorial(n-1)\n",
    "num=int(input(\"Enter the Number \"))\n",
    "print(\"The Factorial of {0} is {1}\".format(num,factorial(num)))"
   ]
  },
  {
   "cell_type": "code",
   "execution_count": 12,
   "id": "2709db1c",
   "metadata": {},
   "outputs": [
    {
     "name": "stdout",
     "output_type": "stream",
     "text": [
      "Enter your height in cm 174\n",
      "Enter your weight in kg 65\n",
      "Your BMI is 21.469150482230148\n"
     ]
    }
   ],
   "source": [
    "#Question 3\n",
    "height=float(input(\"Enter your height in cm \"))\n",
    "weight=float(input(\"Enter your weight in kg \"))\n",
    "print(\"Your BMI is {0}\".format(weight/(height/100)**2))"
   ]
  },
  {
   "cell_type": "code",
   "execution_count": 13,
   "id": "c16429ac",
   "metadata": {},
   "outputs": [
    {
     "name": "stdout",
     "output_type": "stream",
     "text": [
      "Enter the Number12\n",
      "The Logarithm value is 2.4849066497880004\n"
     ]
    }
   ],
   "source": [
    "#Question 4\n",
    "import math\n",
    "num1=int((input(\"Enter the Number \")))\n",
    "print(\"The Logarithm value is {0}\".format(math.log(num1)))"
   ]
  },
  {
   "cell_type": "code",
   "execution_count": 17,
   "id": "ee3355d4",
   "metadata": {},
   "outputs": [
    {
     "name": "stdout",
     "output_type": "stream",
     "text": [
      "Enter the Number 15\n",
      "1 8 27 64 125 216 343 512 729 1000 1331 1728 2197 2744 3375 "
     ]
    }
   ],
   "source": [
    "#Question 5\n",
    "number1=int(input(\"Enter the Number \"))\n",
    "numberlist=range(1,number1+1)\n",
    "cubelist=list(map(lambda n:n**3,numberlist))\n",
    "for i in cubelist:\n",
    "    print(i,end=\" \")"
   ]
  }
 ],
 "metadata": {
  "kernelspec": {
   "display_name": "Python 3 (ipykernel)",
   "language": "python",
   "name": "python3"
  },
  "language_info": {
   "codemirror_mode": {
    "name": "ipython",
    "version": 3
   },
   "file_extension": ".py",
   "mimetype": "text/x-python",
   "name": "python",
   "nbconvert_exporter": "python",
   "pygments_lexer": "ipython3",
   "version": "3.9.12"
  }
 },
 "nbformat": 4,
 "nbformat_minor": 5
}
