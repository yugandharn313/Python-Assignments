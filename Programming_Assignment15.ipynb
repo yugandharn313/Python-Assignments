{
 "cells": [
  {
   "cell_type": "code",
   "execution_count": 1,
   "id": "bbbd270b",
   "metadata": {},
   "outputs": [
    {
     "name": "stdout",
     "output_type": "stream",
     "text": [
      "enter n : 120\n",
      "0,35,70,105\n"
     ]
    }
   ],
   "source": [
    "#1 Question Answer\n",
    "\n",
    "def putNumbers(n): \n",
    "    i = 0 \n",
    "    while i < n:\n",
    "        j = i\n",
    "        i += 1 \n",
    "        if j % 7 == 0 and j % 5 == 0:\n",
    "            yield j\n",
    "n = int(input('enter n : '))\n",
    "num =[]\n",
    "for i in putNumbers(n): \n",
    "    num.append(str(i))\n",
    "    \n",
    "print(','.join(num))"
   ]
  },
  {
   "cell_type": "code",
   "execution_count": 2,
   "id": "4867464d",
   "metadata": {},
   "outputs": [
    {
     "name": "stdout",
     "output_type": "stream",
     "text": [
      "enter n : 14\n",
      "0,2,4,6,8,10,12\n"
     ]
    }
   ],
   "source": [
    "#2 Question Answer\n",
    "\n",
    "\n",
    "def putNumbers(n): \n",
    "    i = 0 \n",
    "    while i < n:\n",
    "        j = i\n",
    "        i += 1 \n",
    "        if j % 2 == 0:\n",
    "            yield j\n",
    "n = int(input('enter n : '))\n",
    "num =[]\n",
    "for i in putNumbers(n): \n",
    "    num.append(str(i))\n",
    "    \n",
    "print(','.join(num))"
   ]
  },
  {
   "cell_type": "code",
   "execution_count": null,
   "id": "01bf5b80",
   "metadata": {},
   "outputs": [],
   "source": [
    "#3 Question Answer\n",
    "\n",
    "\n",
    "def fib(n):    \n",
    "    if n == 0: \n",
    "            return 0    \n",
    "    elif n == 1: \n",
    "            return 1    \n",
    "    else: \n",
    "            return fib(n-1)+fib(n-2)\n",
    "n=int(input('Enter a number :')) \n",
    "values = [str(fib(x)) for x in range(0, n+1)] \n",
    "print(\",\".join(values))"
   ]
  },
  {
   "cell_type": "code",
   "execution_count": 2,
   "id": "ac89a797",
   "metadata": {},
   "outputs": [
    {
     "name": "stdout",
     "output_type": "stream",
     "text": [
      "Enter the email address : george@google.com\n",
      "User name :  george\n",
      "Company name :  google\n"
     ]
    }
   ],
   "source": [
    "#4 Question Answer\n",
    "\n",
    "email = input(\"Enter the email address : \").split('@')\n",
    "company = str(email[1]).split('.')\n",
    "print(\"User name : \",email[0])\n",
    "print(\"Company name : \",company[0])"
   ]
  },
  {
   "cell_type": "code",
   "execution_count": 3,
   "id": "5ca4ee45",
   "metadata": {},
   "outputs": [
    {
     "name": "stdout",
     "output_type": "stream",
     "text": [
      "9\n"
     ]
    }
   ],
   "source": [
    "#5 Question Answer\n",
    "\n",
    "class Shape(object):\n",
    "    def __init__(self):\n",
    "        pass\n",
    "\n",
    "    def area(self):\n",
    "        return 0\n",
    "\n",
    "class Square(Shape):\n",
    "    def __init__(self, l):\n",
    "        Shape.__init__(self)\n",
    "        self.length = l\n",
    "\n",
    "    def area(self):\n",
    "        return self.length*self.length\n",
    "\n",
    "objSquare= Square(3)\n",
    "print(objSquare.area())"
   ]
  }
 ],
 "metadata": {
  "kernelspec": {
   "display_name": "Python 3 (ipykernel)",
   "language": "python",
   "name": "python3"
  },
  "language_info": {
   "codemirror_mode": {
    "name": "ipython",
    "version": 3
   },
   "file_extension": ".py",
   "mimetype": "text/x-python",
   "name": "python",
   "nbconvert_exporter": "python",
   "pygments_lexer": "ipython3",
   "version": "3.9.12"
  }
 },
 "nbformat": 4,
 "nbformat_minor": 5
}
