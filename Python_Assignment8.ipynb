{
 "cells": [
  {
   "cell_type": "markdown",
   "id": "2ad287a8",
   "metadata": {},
   "source": [
    "# 1. Is the Python Standard Library included with PyInputPlus?"
   ]
  },
  {
   "cell_type": "markdown",
   "id": "d28a2e6e",
   "metadata": {},
   "source": [
    "PyInputplus is not a part of the python standard library. it should be installed using pip seperately."
   ]
  },
  {
   "cell_type": "markdown",
   "id": "4387b63d",
   "metadata": {},
   "source": [
    "# 2. Why is PyInputPlus commonly imported with import pyinputplus as pypi?"
   ]
  },
  {
   "cell_type": "markdown",
   "id": "338cc062",
   "metadata": {},
   "source": [
    "import pyinputplus as pypi defines that pypi is the shorter name of PyInputPlus"
   ]
  },
  {
   "cell_type": "markdown",
   "id": "9ddec64b",
   "metadata": {},
   "source": [
    "# 3. How do you distinguish between inputInt() and inputFloat()?"
   ]
  },
  {
   "cell_type": "markdown",
   "id": "de716afa",
   "metadata": {},
   "source": [
    "inputint() -expects int values and returns int values\n",
    "inputfloat() -expects both int or float values and returns float values"
   ]
  },
  {
   "cell_type": "markdown",
   "id": "0b290257",
   "metadata": {},
   "source": [
    "# 4. Using PyInputPlus, how do you ensure that the user enters a whole number between 0 and 99?"
   ]
  },
  {
   "cell_type": "markdown",
   "id": "88eacd40",
   "metadata": {},
   "source": [
    "In the inputint function we can set the min = 0 and max =99 to ensure user enters number between 0 and 99"
   ]
  },
  {
   "cell_type": "markdown",
   "id": "4db20038",
   "metadata": {},
   "source": [
    "# 5. What is transferred to the keyword arguments allowRegexes and blockRegexes?"
   ]
  },
  {
   "cell_type": "markdown",
   "id": "040ca4a5",
   "metadata": {},
   "source": [
    "we can also use regular expressions to specify whether an input is allowed or not. The allowRegexes and blockRegexes \n",
    "keyword arguments take a list of regular expression strings to determine what the PyInputPlus function will accept or \n",
    "reject as valid input."
   ]
  },
  {
   "cell_type": "markdown",
   "id": "4bb5ff2e",
   "metadata": {},
   "source": [
    "# 6. If a blank input is entered three times, what does inputStr(limit=3) do?"
   ]
  },
  {
   "cell_type": "markdown",
   "id": "7d4674c0",
   "metadata": {},
   "source": [
    "RetryLimitException"
   ]
  },
  {
   "cell_type": "markdown",
   "id": "368fa39b",
   "metadata": {},
   "source": [
    "# 7. If blank input is entered three times, what does inputStr(limit=3, default=&#39;hello&#39;) do?"
   ]
  },
  {
   "cell_type": "markdown",
   "id": "93cf48d0",
   "metadata": {},
   "source": [
    "when limit and default values are passed as an arguments then default value will be returned if the blank input is entered three times"
   ]
  }
 ],
 "metadata": {
  "kernelspec": {
   "display_name": "Python 3 (ipykernel)",
   "language": "python",
   "name": "python3"
  },
  "language_info": {
   "codemirror_mode": {
    "name": "ipython",
    "version": 3
   },
   "file_extension": ".py",
   "mimetype": "text/x-python",
   "name": "python",
   "nbconvert_exporter": "python",
   "pygments_lexer": "ipython3",
   "version": "3.9.12"
  }
 },
 "nbformat": 4,
 "nbformat_minor": 5
}
