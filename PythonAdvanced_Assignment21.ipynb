{
 "cells": [
  {
   "cell_type": "markdown",
   "id": "6608f542",
   "metadata": {},
   "source": [
    "# 1. What is a probability distribution, exactly? If the values are meant to be random, how can you predict them at all ?"
   ]
  },
  {
   "cell_type": "markdown",
   "id": "d75fef42",
   "metadata": {},
   "source": [
    "A probability distribution describes how a random variable is distributed.\n",
    "\n",
    "It tells us which values a random variable is most likely to take on and which values are less likely. Based on the previous data and the occurences of the random event, we can predict the outcome in terms of probabilities.\n",
    "\n"
   ]
  },
  {
   "cell_type": "markdown",
   "id": "7e85918c",
   "metadata": {},
   "source": [
    "# 2. Is there a distinction between true random numbers and pseudo-random numbers, if there is one? Why are the latter considered “good enough”?"
   ]
  },
  {
   "cell_type": "markdown",
   "id": "c8ddfffe",
   "metadata": {},
   "source": [
    "True Random Numbers are true physical values while pseudo-random numbers are generated internally by a program . Latter is considered good enough as they have sort of uniform distribution."
   ]
  },
  {
   "cell_type": "markdown",
   "id": "5b464f1a",
   "metadata": {},
   "source": [
    "# 3. What are the two main factors that influence the behaviour of a \"normal\" probability distribution ?"
   ]
  },
  {
   "cell_type": "markdown",
   "id": "549e9827",
   "metadata": {},
   "source": [
    "Mean and Variance are the two main factors that influence the behaviour of a normal probability distribution."
   ]
  },
  {
   "cell_type": "markdown",
   "id": "a5426721",
   "metadata": {},
   "source": [
    "# 4. Provide a real-life example of a normal distribution ?"
   ]
  },
  {
   "cell_type": "markdown",
   "id": "2a3bbac1",
   "metadata": {},
   "source": [
    "A real-life example of a normal distribution is human height. If we were to measure the heights of a large sample of people from a given population, we would find that the distribution of heights follows a normal distribution, with a bell-shaped curve centered around the average height. In this case, the mean of the distribution would be the average height of the population, and the standard deviation would measure the degree of variation or spread in the distribution of heights"
   ]
  },
  {
   "cell_type": "markdown",
   "id": "94d741e2",
   "metadata": {},
   "source": [
    "# 5. In the short term, how can you expect a probability distribution to behave? What do you think will happen as the number of trials grows ?"
   ]
  },
  {
   "cell_type": "markdown",
   "id": "03246cfd",
   "metadata": {},
   "source": [
    "Variance will decrease when the number of trial grows."
   ]
  },
  {
   "cell_type": "markdown",
   "id": "f5bdd3b5",
   "metadata": {},
   "source": [
    "# 6. What kind of object can be shuffled by using random.shuffle ?"
   ]
  },
  {
   "cell_type": "markdown",
   "id": "4f44e778",
   "metadata": {},
   "source": [
    "tuples (tuple) and  lists (list), strings (str) can be shuffled by using random.shuffle"
   ]
  },
  {
   "cell_type": "markdown",
   "id": "406bad88",
   "metadata": {},
   "source": [
    "# 7. Describe the math package's general categories of functions ?"
   ]
  },
  {
   "cell_type": "markdown",
   "id": "7504431a",
   "metadata": {},
   "source": [
    "The Math package's general categories of functions are:\n",
    "\n",
    "1.Trigonometric functions\n",
    "2.Quadratic functions\n",
    "3.Exponential functions\n",
    "4.Hyperbolic functions\n",
    "5.Periodic functions\n",
    "6.Arithmetic functions\n",
    "7.Logarithimic functions\n",
    "8.Conversions to Integer"
   ]
  },
  {
   "cell_type": "markdown",
   "id": "09c71a71",
   "metadata": {},
   "source": [
    "# 8. What is the relationship between exponentiation and logarithms ?"
   ]
  },
  {
   "cell_type": "markdown",
   "id": "22340684",
   "metadata": {},
   "source": [
    "Exponentiation and logarithms are inverse to each other."
   ]
  },
  {
   "cell_type": "markdown",
   "id": "b6dc8493",
   "metadata": {},
   "source": [
    "# 9. What are the three logarithmic functions that Python supports ?"
   ]
  },
  {
   "cell_type": "markdown",
   "id": "175838f2",
   "metadata": {},
   "source": [
    "1.log(x[, base]): This function returns the natural logarithm (base e) of x, or the logarithm of x with a specified base. If the optional argument base is given, then the logarithm of x is computed with respect to that base. For example, log(10) returns the natural logarithm of 10, which is approximately 2.302585.\n",
    "\n",
    "2.log10(x): This function returns the base-10 logarithm of x. For example, log10(100) returns 2.0, because 10 to the power of 2 is equal to 100.\n",
    "\n",
    "3.log2(x): This function returns the base-2 logarithm of x. For example, log2(8) returns 3, because 2 to the power of 3 is equal to 8.\n",
    "\n"
   ]
  }
 ],
 "metadata": {
  "kernelspec": {
   "display_name": "Python 3 (ipykernel)",
   "language": "python",
   "name": "python3"
  },
  "language_info": {
   "codemirror_mode": {
    "name": "ipython",
    "version": 3
   },
   "file_extension": ".py",
   "mimetype": "text/x-python",
   "name": "python",
   "nbconvert_exporter": "python",
   "pygments_lexer": "ipython3",
   "version": "3.9.12"
  }
 },
 "nbformat": 4,
 "nbformat_minor": 5
}
