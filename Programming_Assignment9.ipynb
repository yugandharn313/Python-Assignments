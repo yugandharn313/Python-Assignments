{
 "cells": [
  {
   "cell_type": "code",
   "execution_count": 1,
   "id": "48ebb9dd",
   "metadata": {},
   "outputs": [
    {
     "name": "stdout",
     "output_type": "stream",
     "text": [
      "Enter the number you want to check 89\n",
      "The Number is a Disarium Number\n"
     ]
    }
   ],
   "source": [
    "1.#Python program to check if the given number is a Disarium Number\n",
    "try:\n",
    "    number=int(input(\"Enter the number you want to check \"))\n",
    "    l=[]\n",
    "    temp=number\n",
    "    while(temp>0):\n",
    "        l.append(temp%10)\n",
    "        temp=temp//10\n",
    "    result=0\n",
    "    for i in range(0,len(l)):\n",
    "        result=result+pow(l[i],len(l)-i)\n",
    "    if(result==number):\n",
    "        print(\"The Number is a Disarium Number\")\n",
    "    else:\n",
    "        print(\"The Number is not a Disarium Number\")\n",
    "except:\n",
    "    print(\"The Number You have given to check is invalid\")"
   ]
  },
  {
   "cell_type": "code",
   "execution_count": 2,
   "id": "5681201e",
   "metadata": {},
   "outputs": [
    {
     "name": "stdout",
     "output_type": "stream",
     "text": [
      "The Disarium Numbers between 1 to 100 are\n",
      "1 2 3 4 5 6 7 8 9 89 "
     ]
    }
   ],
   "source": [
    "2.#python program to print all disarium numbers between 1 to 100\n",
    "output=[]\n",
    "for i in range(1,101):\n",
    "    l=[]\n",
    "    temp=i\n",
    "    while(temp>0):\n",
    "        l.append(temp%10)\n",
    "        temp=temp//10\n",
    "    result=0\n",
    "    for j in range(0,len(l)):\n",
    "        result=result+pow(l[j],len(l)-j)\n",
    "    if(result==i):\n",
    "        output.append(i)\n",
    "print(\"The Disarium Numbers between 1 to 100 are\")\n",
    "for number in output:\n",
    "    print(number,end=' ')"
   ]
  },
  {
   "cell_type": "code",
   "execution_count": 3,
   "id": "89c5f17d",
   "metadata": {},
   "outputs": [
    {
     "name": "stdout",
     "output_type": "stream",
     "text": [
      "23\n",
      "happy number\n"
     ]
    }
   ],
   "source": [
    "3.#python program to check whether the number is happy number or not\n",
    "def happynumber(n):    \n",
    "    r = s = 0;    \n",
    "    while(n > 0):    \n",
    "        r = n%10    \n",
    "        s += r**2  \n",
    "        n //= 10    \n",
    "    return s\n",
    "try:\n",
    "    n = int(input())    \n",
    "    res = n;  \n",
    "    while(res != 1 and res != 4):    \n",
    "        res =happynumber(res)\n",
    "    if(res == 1):    \n",
    "        print(\"happy number\")\n",
    "    elif(res == 4):    \n",
    "        print(\"not a happy number\")\n",
    "except:\n",
    "    print(\"Invalid Number\")"
   ]
  },
  {
   "cell_type": "code",
   "execution_count": 4,
   "id": "7b08f269",
   "metadata": {},
   "outputs": [
    {
     "name": "stdout",
     "output_type": "stream",
     "text": [
      "The Happy Numbers between 1 to 100 are\n",
      "1 7 10 13 19 23 28 31 32 44 49 68 70 79 82 86 91 94 97 100 "
     ]
    }
   ],
   "source": [
    "4.#Python program to print all happy numbers between 1 and 100\n",
    "listofnumbers=[]\n",
    "for i in range(1,101):\n",
    "    res = i;  \n",
    "    while(res != 1 and res != 4):    \n",
    "        res =happynumber(res)\n",
    "    if(res==1):\n",
    "        listofnumbers.append(i)\n",
    "print(\"The Happy Numbers between 1 to 100 are\")\n",
    "for numbers in listofnumbers:\n",
    "    print(numbers, end=' ')"
   ]
  },
  {
   "cell_type": "code",
   "execution_count": 5,
   "id": "02f1d109",
   "metadata": {},
   "outputs": [
    {
     "name": "stdout",
     "output_type": "stream",
     "text": [
      "Enter the number you want to check 156\n",
      "The Number Is Harshad Number\n"
     ]
    }
   ],
   "source": [
    "5.#python program to determine whether the given number is a Harshad Number\n",
    "try:\n",
    "    number1=int(input(\"Enter the number you want to check \"))\n",
    "    harshad=0\n",
    "    temp=number1\n",
    "    while(temp>0):\n",
    "        harshad=harshad+temp%10\n",
    "        temp=temp//10\n",
    "    if(number1%harshad==0):\n",
    "        print(\"The Number Is Harshad Number\")\n",
    "    else:\n",
    "        print(\"The Number Is Not Harshad Number\")\n",
    "except:\n",
    "    print(\"Invalid Number\")"
   ]
  },
  {
   "cell_type": "code",
   "execution_count": 6,
   "id": "af2cd2f6",
   "metadata": {},
   "outputs": [
    {
     "name": "stdout",
     "output_type": "stream",
     "text": [
      "The Harshad Numbers Between 1 to 100 are \n",
      "1 2 3 4 5 6 7 8 9 10 12 18 20 21 24 27 30 36 40 42 45 48 50 54 60 63 70 72 80 81 84 90 100 "
     ]
    }
   ],
   "source": [
    "6.#Python program to print all pronic numbers between 1 and 100\n",
    "harshad_numbers_list=[]\n",
    "for num in range(1,101):\n",
    "    harshad=0\n",
    "    temp=num\n",
    "    while(temp>0):\n",
    "        harshad=harshad+temp%10\n",
    "        temp=temp//10\n",
    "    if(num%harshad==0):\n",
    "        harshad_numbers_list.append(num)\n",
    "print(\"The Harshad Numbers Between 1 to 100 are \")\n",
    "for number in harshad_numbers_list:\n",
    "    print(number,end=' ')\n",
    "    "
   ]
  }
 ],
 "metadata": {
  "kernelspec": {
   "display_name": "Python 3 (ipykernel)",
   "language": "python",
   "name": "python3"
  },
  "language_info": {
   "codemirror_mode": {
    "name": "ipython",
    "version": 3
   },
   "file_extension": ".py",
   "mimetype": "text/x-python",
   "name": "python",
   "nbconvert_exporter": "python",
   "pygments_lexer": "ipython3",
   "version": "3.9.12"
  }
 },
 "nbformat": 4,
 "nbformat_minor": 5
}
