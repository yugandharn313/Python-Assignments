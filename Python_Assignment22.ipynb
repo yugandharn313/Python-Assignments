{
 "cells": [
  {
   "cell_type": "markdown",
   "id": "757f06ad",
   "metadata": {},
   "source": [
    "# 1. What is the result of the code, and explain?\n",
    "X = 'iNeuron'\n",
    "def func():\n",
    "    print(X)\n",
    "func()"
   ]
  },
  {
   "cell_type": "code",
   "execution_count": 1,
   "id": "5a3d5c74",
   "metadata": {},
   "outputs": [
    {
     "name": "stdout",
     "output_type": "stream",
     "text": [
      "iNeuron\n"
     ]
    }
   ],
   "source": [
    "#Here x is global variable so it can be accessed through the entire program so func() can access it and print the value of X that is iNeuron.\n",
    "X = 'iNeuron'\n",
    "def func():\n",
    "    print(X)\n",
    "func()"
   ]
  },
  {
   "cell_type": "markdown",
   "id": "52a45fe0",
   "metadata": {},
   "source": [
    "# 2. What is the result of the code, and explain?\n",
    "X = 'iNeuron'\n",
    "def func():\n",
    "    X = 'NI!'\n",
    "\n",
    "func()\n",
    "print(X)\n"
   ]
  },
  {
   "cell_type": "markdown",
   "id": "8a5d9509",
   "metadata": {},
   "source": [
    "iNeuron is the result.Because X is the global variable it can be accessed throughout the program but X defined in function is functional variable and can be accessed only in that function."
   ]
  },
  {
   "cell_type": "markdown",
   "id": "f82424e6",
   "metadata": {},
   "source": [
    "# 3. What does this code print, and why?\n",
    "X = 'iNeuron'\n",
    "def func():\n",
    "    X = 'NI!'\n",
    "    print(X)\n",
    "\n",
    "func()\n",
    "print(X)"
   ]
  },
  {
   "cell_type": "markdown",
   "id": "d0ffbdae",
   "metadata": {},
   "source": [
    "First it will print NI! and then it will print iNeuron because X is defined as NI! in function so first it will print the function variable and print statement outside of the function prints the global variable"
   ]
  },
  {
   "cell_type": "markdown",
   "id": "41df94a7",
   "metadata": {},
   "source": [
    "# 4. What output does this code produce? Why?\n",
    "X = 'iNeuron'\n",
    "def func():\n",
    "    global X\n",
    "    X = 'NI!'\n",
    "    print(X)\n",
    "\n",
    "func()\n",
    "print(X)"
   ]
  },
  {
   "cell_type": "markdown",
   "id": "6e133920",
   "metadata": {},
   "source": [
    "since the X in side function is made Global, it will be accesible out side of the function too. now X will have new value. The result is NI! NI!"
   ]
  },
  {
   "cell_type": "markdown",
   "id": "1b64cc88",
   "metadata": {},
   "source": [
    "# 5. What about this code—what’s the output, and why?\n",
    "X = 'iNeuron'\n",
    "def func():\n",
    "    X = 'NI'\n",
    "def nested():\n",
    "    print(X)\n",
    "\n",
    "nested()\n",
    "func()\n",
    "X"
   ]
  },
  {
   "cell_type": "markdown",
   "id": "31c049de",
   "metadata": {},
   "source": [
    "Output : iNeuron\n",
    "    'iNeuron'\n",
    "The nested() function will display the global variable func() doesnot display anything and X displays 'iNeuron'"
   ]
  },
  {
   "cell_type": "markdown",
   "id": "93ed60e8",
   "metadata": {},
   "source": [
    "# 6. How about this code: what is its output in Python 3, and explain?\n",
    "X = 'kkl'\n",
    "def func():\n",
    "    X = 'NI'\n",
    "    def nested():\n",
    "        nonlocal X\n",
    "        X = 'spam'\n",
    "    nested()\n",
    "    print(X)\n",
    "\n",
    "func()"
   ]
  },
  {
   "cell_type": "markdown",
   "id": "698edbe1",
   "metadata": {},
   "source": [
    "Nonlocal variables are used in nested functions whose local scope is not defined. \n",
    "This means that the variable can be neither in the local nor the global scope. it print the updated value from nested \n",
    "function\n",
    "\n",
    "Solution : 'spam'"
   ]
  }
 ],
 "metadata": {
  "kernelspec": {
   "display_name": "Python 3 (ipykernel)",
   "language": "python",
   "name": "python3"
  },
  "language_info": {
   "codemirror_mode": {
    "name": "ipython",
    "version": 3
   },
   "file_extension": ".py",
   "mimetype": "text/x-python",
   "name": "python",
   "nbconvert_exporter": "python",
   "pygments_lexer": "ipython3",
   "version": "3.9.12"
  }
 },
 "nbformat": 4,
 "nbformat_minor": 5
}
