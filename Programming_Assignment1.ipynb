{
 "cells": [
  {
   "cell_type": "code",
   "execution_count": 6,
   "id": "61520179",
   "metadata": {},
   "outputs": [
    {
     "name": "stdout",
     "output_type": "stream",
     "text": [
      "Hello Python\n"
     ]
    }
   ],
   "source": [
    "#Question 1\n",
    "print(\"Hello Python\")"
   ]
  },
  {
   "cell_type": "code",
   "execution_count": 7,
   "id": "d9509a41",
   "metadata": {},
   "outputs": [
    {
     "name": "stdout",
     "output_type": "stream",
     "text": [
      "Enter the First Number12\n",
      "Enter the Second Number3\n",
      "15\n",
      "4.0\n"
     ]
    }
   ],
   "source": [
    "#Question 2\n",
    "a=int(input(\"Enter the First Number\"))\n",
    "b=int(input(\"Enter the Second Number\"))\n",
    "print(a+b)\n",
    "print(a/b)"
   ]
  },
  {
   "cell_type": "code",
   "execution_count": 9,
   "id": "823194e7",
   "metadata": {},
   "outputs": [
    {
     "name": "stdout",
     "output_type": "stream",
     "text": [
      "Enter the First Side3\n",
      "Enter the Second Side4\n",
      "Enter the third side5\n",
      "6.0\n"
     ]
    }
   ],
   "source": [
    "#Question 3\n",
    "a=int(input(\"Enter the First Side\"))\n",
    "b=int(input(\"Enter the Second Side\"))\n",
    "c=int(input(\"Enter the third side\"))\n",
    "s=(a+b+c)/2\n",
    "area=(s*(s-a)*(s-b)*(s-c))**0.5\n",
    "print(area)"
   ]
  },
  {
   "cell_type": "code",
   "execution_count": 11,
   "id": "dbb138f7",
   "metadata": {},
   "outputs": [
    {
     "name": "stdout",
     "output_type": "stream",
     "text": [
      "Enter a value12\n",
      "Enter b value3\n",
      "After Swapping\n",
      "Value of a 3\n",
      "Value of b 15\n"
     ]
    }
   ],
   "source": [
    "#Question 4\n",
    "a=int(input(\"Enter a value\"))\n",
    "b=int(input(\"Enter b value\"))\n",
    "a,b=b,a+b\n",
    "print(\"After Swapping\")\n",
    "print(\"Value of a\",a)\n",
    "print(\"Value of b\",b)"
   ]
  },
  {
   "cell_type": "code",
   "execution_count": 12,
   "id": "5e37596f",
   "metadata": {},
   "outputs": [
    {
     "name": "stdout",
     "output_type": "stream",
     "text": [
      "4\n"
     ]
    }
   ],
   "source": [
    "#Question 5\n",
    "import random\n",
    "print(random.randint(0,9))"
   ]
  }
 ],
 "metadata": {
  "kernelspec": {
   "display_name": "Python 3 (ipykernel)",
   "language": "python",
   "name": "python3"
  },
  "language_info": {
   "codemirror_mode": {
    "name": "ipython",
    "version": 3
   },
   "file_extension": ".py",
   "mimetype": "text/x-python",
   "name": "python",
   "nbconvert_exporter": "python",
   "pygments_lexer": "ipython3",
   "version": "3.9.12"
  }
 },
 "nbformat": 4,
 "nbformat_minor": 5
}
